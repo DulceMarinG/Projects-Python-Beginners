{
  "nbformat": 4,
  "nbformat_minor": 0,
  "metadata": {
    "colab": {
      "name": "Proyecto 1 Beginners.ipynb",
      "provenance": [],
      "authorship_tag": "ABX9TyPR4leFQ7Hhkn7yOKkSA4ES",
      "include_colab_link": true
    },
    "kernelspec": {
      "name": "python3",
      "display_name": "Python 3"
    },
    "language_info": {
      "name": "python"
    }
  },
  "cells": [
    {
      "cell_type": "markdown",
      "metadata": {
        "id": "view-in-github",
        "colab_type": "text"
      },
      "source": [
        "<a href=\"https://colab.research.google.com/github/DulceMarinG/Projects-Python-Beginners/blob/main/Proyecto_1_Beginners.ipynb\" target=\"_parent\"><img src=\"https://colab.research.google.com/assets/colab-badge.svg\" alt=\"Open In Colab\"/></a>"
      ]
    },
    {
      "cell_type": "markdown",
      "metadata": {
        "id": "pLuksfqst7zB"
      },
      "source": [
        "#Concatenar cadenas \n",
        "\n",
        "##Cómo poner 'strings' juntos\n",
        "\n",
        "###Ejemplo \n",
        "Supón que quieres crear una cadena que diga \"Súscribete a _________\"\n",
        "\n",
        "Existen varios formas de hacer esto...\n",
        "\n"
      ]
    },
    {
      "cell_type": "code",
      "metadata": {
        "colab": {
          "base_uri": "https://localhost:8080/"
        },
        "id": "c91oxeRxu7MD",
        "outputId": "f0002adf-7fb7-4750-a42b-05c45de8fb48"
      },
      "source": [
        "youtuber = \"Dulceidas Web\"\n",
        "print(\"Suscribité a \" + youtuber)\n",
        "print(\"Suscribité a {}\".format(youtuber))\n",
        "print(f\"suscribeté a {youtuber}\")"
      ],
      "execution_count": null,
      "outputs": [
        {
          "output_type": "stream",
          "text": [
            "Suscribité a Dulceidas Web\n",
            "Suscribité a Dulceidas Web\n",
            "suscribeté a Dulceidas Web\n"
          ],
          "name": "stdout"
        }
      ]
    },
    {
      "cell_type": "markdown",
      "metadata": {
        "id": "p0NbaSFyxBxq"
      },
      "source": [
        "Iniciamos con el proyecto "
      ]
    },
    {
      "cell_type": "code",
      "metadata": {
        "colab": {
          "base_uri": "https://localhost:8080/"
        },
        "id": "jhZgVrdBxHRT",
        "outputId": "34d08583-f20c-4140-faac-11c427ebca7e"
      },
      "source": [
        "adj = input(\"Adjetive: \")\n",
        "verb1 = input(\"Verb1: \")\n",
        "verb2 = input(\"Verb2: \")\n",
        "famous_person = input(\"Famous Person: \")\n",
        "\n",
        "\n",
        "madlib = f\"Computer programming is so {adj}! It makes me so excited all the time because \\\n",
        "I love to {verb1}. Stay hydrated and {verb2} like you are {famous_person}!\"\n",
        "\n",
        "print(madlib)"
      ],
      "execution_count": null,
      "outputs": [
        {
          "output_type": "stream",
          "text": [
            "Adjetive: amazing\n",
            "Verb1: skydive\n",
            "Verb2: jum\n",
            "Famous Person: Dua Lipa\n",
            "Computer programming is so amazing! It makes me so excited all the time because I love to skydive. Stay hydrated and jum like you are Dua Lipa!\n"
          ],
          "name": "stdout"
        }
      ]
    },
    {
      "cell_type": "code",
      "metadata": {
        "id": "_St32OaMt1PG"
      },
      "source": [
        ""
      ],
      "execution_count": null,
      "outputs": []
    },
    {
      "cell_type": "markdown",
      "metadata": {
        "id": "LwDUgTUPt5-C"
      },
      "source": [
        ""
      ]
    }
  ]
}